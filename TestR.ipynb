{
  "nbformat": 4,
  "nbformat_minor": 0,
  "metadata": {
    "colab": {
      "name": "TestR.ipynb",
      "provenance": [],
      "authorship_tag": "ABX9TyPO6mOY695bsiwSUst/6oEU",
      "include_colab_link": true
    },
    "kernelspec": {
      "name": "python3",
      "display_name": "Python 3"
    }
  },
  "cells": [
    {
      "cell_type": "markdown",
      "metadata": {
        "id": "view-in-github",
        "colab_type": "text"
      },
      "source": [
        "<a href=\"https://colab.research.google.com/github/alicepaul/pvd_summer/blob/master/TestR.ipynb\" target=\"_parent\"><img src=\"https://colab.research.google.com/assets/colab-badge.svg\" alt=\"Open In Colab\"/></a>"
      ]
    },
    {
      "cell_type": "markdown",
      "metadata": {
        "id": "_AQ-mJag0DCx",
        "colab_type": "text"
      },
      "source": [
        "# Hello\n",
        "\n",
        "This is a test of basic R and python functionality, loading data from my drive, and pushing to a github repo."
      ]
    },
    {
      "cell_type": "code",
      "metadata": {
        "id": "5FvOc9ojP4rW",
        "colab_type": "code",
        "colab": {
          "base_uri": "https://localhost:8080/",
          "height": 105
        },
        "outputId": "cfff7a82-fc2f-4fb0-b92a-97c0bb6bc163"
      },
      "source": [
        "%reload_ext rpy2.ipython"
      ],
      "execution_count": 1,
      "outputs": [
        {
          "output_type": "stream",
          "text": [
            "/usr/local/lib/python3.6/dist-packages/rpy2/robjects/pandas2ri.py:14: FutureWarning: pandas.core.index is deprecated and will be removed in a future version.  The public classes are available in the top-level namespace.\n",
            "  from pandas.core.index import Index as PandasIndex\n",
            "/usr/local/lib/python3.6/dist-packages/rpy2/robjects/pandas2ri.py:34: UserWarning: pandas >= 1.0 is not supported.\n",
            "  warnings.warn('pandas >= 1.0 is not supported.')\n"
          ],
          "name": "stderr"
        }
      ]
    },
    {
      "cell_type": "code",
      "metadata": {
        "id": "tWbjaKXuDuH4",
        "colab_type": "code",
        "colab": {}
      },
      "source": [
        "%%R\n",
        "# install.packages('dslabs')\n",
        "library('dslabs')"
      ],
      "execution_count": 0,
      "outputs": []
    },
    {
      "cell_type": "code",
      "metadata": {
        "id": "gDPVcqdGz-Xo",
        "colab_type": "code",
        "outputId": "466e1ca9-4f4e-4a19-ce81-071eb64baf43",
        "colab": {
          "base_uri": "https://localhost:8080/",
          "height": 34
        }
      },
      "source": [
        "%%R\n",
        "x <-10\n",
        "x = x + 6\n",
        "x"
      ],
      "execution_count": 3,
      "outputs": [
        {
          "output_type": "stream",
          "text": [
            "[1] 16\n"
          ],
          "name": "stdout"
        }
      ]
    },
    {
      "cell_type": "markdown",
      "metadata": {
        "id": "kP5dVlB206C_",
        "colab_type": "text"
      },
      "source": [
        "Load data from repo (supposedly only works for files up to 25 mb) or you can load directly but it gets deleted every time. \n"
      ]
    },
    {
      "cell_type": "code",
      "metadata": {
        "id": "IhthTtDIQnSt",
        "colab_type": "code",
        "colab": {
          "base_uri": "https://localhost:8080/",
          "height": 122
        },
        "outputId": "6d6b2266-6a51-411a-e640-6173e8e2eefb"
      },
      "source": [
        "from google.colab import drive\n",
        "drive.mount('/content/drive')"
      ],
      "execution_count": 5,
      "outputs": [
        {
          "output_type": "stream",
          "text": [
            "Go to this URL in a browser: https://accounts.google.com/o/oauth2/auth?client_id=947318989803-6bn6qk8qdgf4n4g3pfee6491hc0brc4i.apps.googleusercontent.com&redirect_uri=urn%3aietf%3awg%3aoauth%3a2.0%3aoob&response_type=code&scope=email%20https%3a%2f%2fwww.googleapis.com%2fauth%2fdocs.test%20https%3a%2f%2fwww.googleapis.com%2fauth%2fdrive%20https%3a%2f%2fwww.googleapis.com%2fauth%2fdrive.photos.readonly%20https%3a%2f%2fwww.googleapis.com%2fauth%2fpeopleapi.readonly\n",
            "\n",
            "Enter your authorization code:\n",
            "··········\n",
            "Mounted at /content/drive\n"
          ],
          "name": "stdout"
        }
      ]
    },
    {
      "cell_type": "code",
      "metadata": {
        "id": "L08yC6S83Re0",
        "colab_type": "code",
        "outputId": "0d8b4c60-7b09-4575-b976-4943b2c1d429",
        "colab": {
          "base_uri": "https://localhost:8080/",
          "height": 34
        }
      },
      "source": [
        "%%R\n",
        "url = '/content/drive/My Drive/test.csv'\n",
        "data = read.csv(url)\n",
        "\n",
        "names(data)"
      ],
      "execution_count": 7,
      "outputs": [
        {
          "output_type": "stream",
          "text": [
            "[1] \"Name\"             \"Ice.Cream.Flavor\"\n"
          ],
          "name": "stdout"
        }
      ]
    }
  ]
}