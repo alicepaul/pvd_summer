{
  "nbformat": 4,
  "nbformat_minor": 0,
  "metadata": {
    "colab": {
      "name": "TestR.ipynb",
      "provenance": [],
      "authorship_tag": "ABX9TyN0AkXWvH5IwcaaQTlTZvkt",
      "include_colab_link": true
    },
    "kernelspec": {
      "name": "ir",
      "display_name": "R"
    }
  },
  "cells": [
    {
      "cell_type": "markdown",
      "metadata": {
        "id": "view-in-github",
        "colab_type": "text"
      },
      "source": [
        "<a href=\"https://colab.research.google.com/github/alicepaul/pvd_summer/blob/master/TestR.ipynb\" target=\"_parent\"><img src=\"https://colab.research.google.com/assets/colab-badge.svg\" alt=\"Open In Colab\"/></a>"
      ]
    },
    {
      "cell_type": "markdown",
      "metadata": {
        "id": "_AQ-mJag0DCx",
        "colab_type": "text"
      },
      "source": [
        "# Hello\n",
        "\n",
        "This is a test of basic R functionality and pushing to a github repo."
      ]
    },
    {
      "cell_type": "code",
      "metadata": {
        "id": "gDPVcqdGz-Xo",
        "colab_type": "code",
        "colab": {
          "base_uri": "https://localhost:8080/",
          "height": 34
        },
        "outputId": "ed24934d-99b9-4a3d-ce3d-4e8e04c46976"
      },
      "source": [
        "x <-10\n",
        "x = x + 5\n",
        "x"
      ],
      "execution_count": 7,
      "outputs": [
        {
          "output_type": "display_data",
          "data": {
            "text/plain": [
              "[1] 15"
            ],
            "text/latex": "15",
            "text/markdown": "15",
            "text/html": [
              "15"
            ]
          },
          "metadata": {
            "tags": []
          }
        }
      ]
    },
    {
      "cell_type": "markdown",
      "metadata": {
        "id": "kP5dVlB206C_",
        "colab_type": "text"
      },
      "source": [
        "Load data from repo."
      ]
    },
    {
      "cell_type": "code",
      "metadata": {
        "id": "O6s9OnYL1BLf",
        "colab_type": "code",
        "colab": {}
      },
      "source": [
        ""
      ],
      "execution_count": 0,
      "outputs": []
    }
  ]
}