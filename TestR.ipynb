{
  "nbformat": 4,
  "nbformat_minor": 0,
  "metadata": {
    "colab": {
      "name": "TestR.ipynb",
      "provenance": [],
      "authorship_tag": "ABX9TyOdWUZnD3XG6FAfc+ClJ3Op",
      "include_colab_link": true
    },
    "kernelspec": {
      "name": "ir",
      "display_name": "R"
    }
  },
  "cells": [
    {
      "cell_type": "markdown",
      "metadata": {
        "id": "view-in-github",
        "colab_type": "text"
      },
      "source": [
        "<a href=\"https://colab.research.google.com/github/alicepaul/pvd_summer/blob/master/TestR.ipynb\" target=\"_parent\"><img src=\"https://colab.research.google.com/assets/colab-badge.svg\" alt=\"Open In Colab\"/></a>"
      ]
    },
    {
      "cell_type": "markdown",
      "metadata": {
        "id": "_AQ-mJag0DCx",
        "colab_type": "text"
      },
      "source": [
        "# Hello\n",
        "\n",
        "This is a test of basic R functionality and pushing to a github repo."
      ]
    },
    {
      "cell_type": "code",
      "metadata": {
        "id": "tWbjaKXuDuH4",
        "colab_type": "code",
        "colab": {
          "base_uri": "https://localhost:8080/",
          "height": 68
        },
        "outputId": "6caed7dd-e484-4e9b-da0b-d251b4ccff06"
      },
      "source": [
        "# install.packages('dslabs')\n",
        "library('dslabs')"
      ],
      "execution_count": 2,
      "outputs": [
        {
          "output_type": "stream",
          "text": [
            "Installing package into ‘/usr/local/lib/R/site-library’\n",
            "(as ‘lib’ is unspecified)\n",
            "\n"
          ],
          "name": "stderr"
        }
      ]
    },
    {
      "cell_type": "code",
      "metadata": {
        "id": "gDPVcqdGz-Xo",
        "colab_type": "code",
        "outputId": "ff540995-d7d7-4291-d2de-5d4471666362",
        "colab": {
          "base_uri": "https://localhost:8080/",
          "height": 34
        }
      },
      "source": [
        "x <-10\n",
        "x = x + 6\n",
        "x"
      ],
      "execution_count": 0,
      "outputs": [
        {
          "output_type": "display_data",
          "data": {
            "text/plain": [
              "[1] 16"
            ],
            "text/latex": "16",
            "text/markdown": "16",
            "text/html": [
              "16"
            ]
          },
          "metadata": {
            "tags": []
          }
        }
      ]
    },
    {
      "cell_type": "markdown",
      "metadata": {
        "id": "kP5dVlB206C_",
        "colab_type": "text"
      },
      "source": [
        "Load data from repo. Supposedly only works for files <25 mb\n"
      ]
    },
    {
      "cell_type": "code",
      "metadata": {
        "id": "L08yC6S83Re0",
        "colab_type": "code",
        "outputId": "fb65e5ce-ab3d-4d73-d627-f3a1326760d3",
        "colab": {
          "base_uri": "https://localhost:8080/",
          "height": 34
        }
      },
      "source": [
        "# url = 'https://raw.githubusercontent.com/alicepaul/pvd_summer/master/test.csv?token=ACTUNFNB4F2O7UA6GYEJVG262V43W'\n",
        "\n",
        "data = read.csv('test.csv')\n",
        "names(data)"
      ],
      "execution_count": 0,
      "outputs": [
        {
          "output_type": "display_data",
          "data": {
            "text/plain": [
              "[1] \"Name\"             \"Ice.Cream.Flavor\""
            ],
            "text/latex": "\\begin{enumerate*}\n\\item 'Name'\n\\item 'Ice.Cream.Flavor'\n\\end{enumerate*}\n",
            "text/markdown": "1. 'Name'\n2. 'Ice.Cream.Flavor'\n\n\n",
            "text/html": [
              "<style>\n",
              ".list-inline {list-style: none; margin:0; padding: 0}\n",
              ".list-inline>li {display: inline-block}\n",
              ".list-inline>li:not(:last-child)::after {content: \"\\00b7\"; padding: 0 .5ex}\n",
              "</style>\n",
              "<ol class=list-inline><li>'Name'</li><li>'Ice.Cream.Flavor'</li></ol>\n"
            ]
          },
          "metadata": {
            "tags": []
          }
        }
      ]
    },
    {
      "cell_type": "code",
      "metadata": {
        "id": "isEaNeoY4wrF",
        "colab_type": "code",
        "colab": {}
      },
      "source": [
        ""
      ],
      "execution_count": 0,
      "outputs": []
    }
  ]
}